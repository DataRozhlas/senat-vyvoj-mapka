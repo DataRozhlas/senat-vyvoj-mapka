{
 "cells": [
  {
   "cell_type": "code",
   "execution_count": 59,
   "metadata": {},
   "outputs": [],
   "source": [
    "import csv, json, unicodedata, requests, bs4"
   ]
  },
  {
   "cell_type": "code",
   "execution_count": 63,
   "metadata": {},
   "outputs": [
    {
     "name": "stdout",
     "output_type": "stream",
     "text": [
      "[1, 2, 3, 4, 5, 6, 7, 8, 9, 10, 11, 12, 13, 14, 15, 16, 17, 18, 19, 20, 21, 22, 23, 24, 25, 26, 27, 28, 29, 30, 31, 32, 33, 34, 35, 36, 37, 38, 39, 40, 41, 42, 43, 44, 45, 46, 47, 48, 49, 50, 51, 52, 53, 54, 55, 56, 57, 58, 59, 60, 61, 62, 63, 64, 65, 66, 67, 68, 69, 70, 71, 72, 73, 74, 75, 76, 77, 78, 79, 80, 81] [1, 4, 7, 10, 13, 16, 19, 22, 25, 28, 31, 34, 37, 40, 43, 46, 49, 52, 55, 58, 61, 64, 67, 70, 73, 76, 79] [2, 5, 8, 11, 14, 17, 20, 23, 26, 29, 32, 35, 38, 41, 44, 47, 50, 53, 56, 59, 62, 65, 68, 71, 74, 77, 80] [3, 6, 9, 12, 15, 18, 21, 24, 27, 30, 33, 36, 39, 42, 45, 48, 51, 54, 57, 60, 63, 66, 69, 72, 75, 78, 81]\n"
     ]
    }
   ],
   "source": [
    "prefix = \"http://volby.cz/pls/senat/se2111?xjazyk=CZ&xdatum=\"\n",
    "#radne = ['19961116', '19981114', '20001112', '20021025', '20041105', '20061020', \n",
    "#         '20081017', '20121012', '20101015', '20141010', '20161007', '20181005']\n",
    "radne = [\"20181005\"]\n",
    "obvody = [i+1 for i in range(81)]\n",
    "obvody1 = [i-1 for i in range(81) if not((i+1)%3)]\n",
    "obvody2 = [i+1 for i in obvody1]\n",
    "obvody3 = [i+1 for i in obvody2]\n",
    "print(obvody, obvody1, obvody2, obvody3)"
   ]
  },
  {
   "cell_type": "code",
   "execution_count": 64,
   "metadata": {},
   "outputs": [],
   "source": [
    "urls = []\n",
    "sep = \"&xobvod=\"\n",
    "for term in radne:\n",
    "    rok = term[0:4]\n",
    "    if rok == \"1996\": #prvni volby\n",
    "        for obvod in obvody:\n",
    "            urls.append(term+sep+str(obvod))\n",
    "    elif not(int(rok) % 6): # prvni tretina\n",
    "        for obvod in obvody1:\n",
    "            urls.append(term+sep+str(obvod))\n",
    "    elif not((int(rok)+4) % 6): # druha tretina\n",
    "        for obvod in obvody2:\n",
    "            urls.append(term+sep+str(obvod))\n",
    "    elif not((int(rok)+2) % 6): # treti tretina\n",
    "        for obvod in obvody3:\n",
    "            urls.append(term+sep+str(obvod))\n",
    "urls = sorted(urls, key=lambda x: int(x[0:4]))\n",
    "\n",
    "#doplnovaci\n",
    "urls.extend([\"19990828&xobvod=27\", \"20031031&xobvod=12\", \"20031107&xobvod=58\", \"20041008&xobvod=20\", \"20041008&xobvod=54\",\n",
    "             \"20070427&xobvod=63\", \"20070413&xobvod=5\", \"20110318&xobvod=30\", \"20140919&xobvod=22\", \"20140110&xobvod=80\",\n",
    "             \"20180105&xobvod=39\", \"20180518&xobvod=78\"])"
   ]
  },
  {
   "cell_type": "code",
   "execution_count": 66,
   "metadata": {},
   "outputs": [
    {
     "name": "stdout",
     "output_type": "stream",
     "text": [
      "['20181005', '2', 'Balatka Miroslav Ing.', 'STAN']\n",
      "['20181005', '5', 'Balatka Miroslav Ing.', 'STAN']\n",
      "['20181005', '8', 'Balatka Miroslav Ing.', 'STAN']\n",
      "['20181005', '11', 'Vilímec Vladislav Ing.', 'ODS']\n",
      "['20181005', '14', 'Vilímec Vladislav Ing.', 'ODS']\n",
      "['20181005', '17', 'Vilímec Vladislav Ing.', 'ODS']\n",
      "['20181005', '20', 'Drahoš Jiří prof. Ing. DrSc.', 'STAN']\n",
      "['20181005', '23', 'Drahoš Jiří prof. Ing. DrSc.', 'STAN']\n",
      "['20181005', '26', 'Drahoš Jiří prof. Ing. DrSc.', 'STAN']\n",
      "['20181005', '29', 'Drahoš Jiří prof. Ing. DrSc.', 'STAN']\n",
      "['20181005', '32', 'Kubera Jaroslav', 'ODS']\n",
      "['20181005', '35', 'Kubera Jaroslav', 'ODS']\n",
      "['20181005', '38', 'Kubera Jaroslav', 'ODS']\n",
      "['20181005', '41', 'Kubera Jaroslav', 'ODS']\n",
      "['20181005', '44', 'Kubera Jaroslav', 'ODS']\n",
      "['20181005', '47', 'Kubera Jaroslav', 'ODS']\n",
      "['20181005', '50', 'Kubera Jaroslav', 'ODS']\n",
      "['20181005', '53', 'Kubera Jaroslav', 'ODS']\n",
      "['20181005', '56', 'Kubera Jaroslav', 'ODS']\n",
      "['20181005', '59', 'Kubera Jaroslav', 'ODS']\n",
      "['20181005', '62', 'Kubera Jaroslav', 'ODS']\n",
      "['20181005', '65', 'Kubera Jaroslav', 'ODS']\n",
      "['20181005', '68', 'Kubera Jaroslav', 'ODS']\n",
      "['20181005', '71', 'Kubera Jaroslav', 'ODS']\n",
      "['20181005', '74', 'Kubera Jaroslav', 'ODS']\n",
      "['20181005', '77', 'Čunek Jiří', 'KDU-ČSL']\n",
      "['20181005', '80', 'Kunčar Patrik Ing. Bc.', 'KDU-ČSL']\n",
      "['19990828', '27', 'Fischer Václav', 'NK']\n",
      "['20031031', '12', 'Kalbáč Josef Ing.', 'KDU-ČSL']\n",
      "['20031107', '58', 'Jarůšek Karel', 'ODS']\n",
      "['20041008', '20', 'Příhoda František', 'ODS']\n",
      "['20041008', '54', 'Špaček Milan MUDr.', 'KDU-ČSL']\n",
      "['20070427', '63', 'Lajtoch Jiří Ing.', 'ČSSD']\n",
      "['20070413', '5', 'Homolka Václav PaedDr.', 'KSČM']\n",
      "['20110318', '30', 'Dienstbier Jiří Mgr.', 'ČSSD']\n",
      "['20140919', '22', 'Cabrnochová Ivana', 'Zelení']\n",
      "['20140110', '80', 'Kunčar Patrik Bc.', 'KDU-ČSL']\n",
      "['20180105', '39', 'Sobotka Jan Ing.', 'STAN']\n",
      "['20180518', '78', 'Goláň Tomáš Ing.', 'SEN 21']\n"
     ]
    }
   ],
   "source": [
    "senatori = []\n",
    "for url in urls:\n",
    "    datum, obvod = url.split(\"&xobvod=\")\n",
    "    content = requests.get(prefix+url).text.split(\"\\n\")\n",
    "    for index, line in enumerate(content):\n",
    "        if \"*\" in line and \"d3.interpolate\" not in line:\n",
    "            jmeno, strana = bs4.BeautifulSoup(content[index+1]).text, bs4.BeautifulSoup(content[index+3]).text\n",
    "            break\n",
    "    print([datum,obvod,jmeno,strana])\n",
    "    senatori.append([datum,obvod,jmeno,strana])"
   ]
  },
  {
   "cell_type": "code",
   "execution_count": 67,
   "metadata": {},
   "outputs": [],
   "source": [
    "with open(\"senatori2018.csv\",\"w\",encoding=\"utf-8\",newline=\"\") as file:\n",
    "    writer = csv.writer(file)\n",
    "    headers = [\"datum\",\"obvod\",\"vitez\",\"vitezStrana\"]\n",
    "    writer.writerow(headers)\n",
    "    writer.writerows(senatori)"
   ]
  },
  {
   "cell_type": "code",
   "execution_count": 70,
   "metadata": {},
   "outputs": [],
   "source": [
    "output = {}\n",
    "for filename in (\"senatori.csv\", \"mapa.topo.json\", \"praha.topo.json\"):\n",
    "    with open(filename,encoding=\"utf-8\") as file:\n",
    "        data = file.read()\n",
    "        try:\n",
    "            output[filename.split(\".\")[0]] = json.loads(data)\n",
    "        except: \n",
    "            output[filename.split(\".\")[0]] = data\n",
    "\n",
    "with open(\"data.js\",\"w\",encoding=\"utf-8\") as file:\n",
    "    file.write(\"window.ig.data = \" + json.dumps(output, ensure_ascii=False))"
   ]
  },
  {
   "cell_type": "code",
   "execution_count": null,
   "metadata": {},
   "outputs": [],
   "source": []
  }
 ],
 "metadata": {
  "kernelspec": {
   "display_name": "Python 3",
   "language": "python",
   "name": "python3"
  },
  "language_info": {
   "codemirror_mode": {
    "name": "ipython",
    "version": 3
   },
   "file_extension": ".py",
   "mimetype": "text/x-python",
   "name": "python",
   "nbconvert_exporter": "python",
   "pygments_lexer": "ipython3",
   "version": "3.7.0"
  }
 },
 "nbformat": 4,
 "nbformat_minor": 2
}
