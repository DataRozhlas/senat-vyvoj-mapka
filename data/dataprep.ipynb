{
 "cells": [
  {
   "cell_type": "code",
   "execution_count": 1,
   "metadata": {},
   "outputs": [],
   "source": [
    "import json, unicodedata"
   ]
  },
  {
   "cell_type": "code",
   "execution_count": 2,
   "metadata": {},
   "outputs": [],
   "source": [
    "# TODO: scraper from livescript"
   ]
  },
  {
   "cell_type": "code",
   "execution_count": 34,
   "metadata": {},
   "outputs": [],
   "source": [
    "output = {}\n",
    "for filename in (\"senatori.csv\", \"mapa.topo.json\", \"praha.topo.json\"):\n",
    "    with open(filename,encoding=\"utf-8\") as file:\n",
    "        data = file.read()\n",
    "        try:\n",
    "            output[filename.split(\".\")[0]] = json.loads(data)\n",
    "        except: \n",
    "            output[filename.split(\".\")[0]] = data\n",
    "\n",
    "with open(\"data.js\",\"w\",encoding=\"utf-8\") as file:\n",
    "    file.write(\"window.ig.data = \" + json.dumps(output, ensure_ascii=False))"
   ]
  }
 ],
 "metadata": {
  "kernelspec": {
   "display_name": "Python 3",
   "language": "python",
   "name": "python3"
  },
  "language_info": {
   "codemirror_mode": {
    "name": "ipython",
    "version": 3
   },
   "file_extension": ".py",
   "mimetype": "text/x-python",
   "name": "python",
   "nbconvert_exporter": "python",
   "pygments_lexer": "ipython3",
   "version": "3.7.0"
  }
 },
 "nbformat": 4,
 "nbformat_minor": 2
}
